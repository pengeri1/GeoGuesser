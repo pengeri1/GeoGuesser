{
  "cells": [
    {
      "cell_type": "code",
      "execution_count": null,
      "metadata": {
        "id": "AjNt_JyjO1V0"
      },
      "outputs": [],
      "source": [
        "import torch\n",
        "import torchvision.models\n",
        "import numpy as np\n",
        "import torch.utils.data\n",
        "import torch.nn as nn\n",
        "import torch.nn.functional as F\n",
        "import torch.optim as optim #for gradient descent\n",
        "import matplotlib.pyplot as plt"
      ]
    },
    {
      "cell_type": "code",
      "execution_count": null,
      "metadata": {
        "id": "KBDPLzTgPEUe"
      },
      "outputs": [],
      "source": [
        "import random\n",
        "import math\n",
        "import os\n",
        "import requests"
      ]
    },
    {
      "cell_type": "code",
      "execution_count": null,
      "metadata": {
        "colab": {
          "base_uri": "https://localhost:8080/"
        },
        "id": "fZ4Z42EKPF1y",
        "outputId": "b7578287-f720-4d82-b908-b6741e8f2c66"
      },
      "outputs": [
        {
          "output_type": "stream",
          "name": "stdout",
          "text": [
            "Mounted at /content/gdrive\n"
          ]
        }
      ],
      "source": [
        "from torchvision import datasets\n",
        "import torchvision.transforms.v2\n",
        "from torch.utils.data import DataLoader, Subset\n",
        "from google.colab import drive\n",
        "drive.mount('/content/gdrive')"
      ]
    },
    {
      "cell_type": "code",
      "execution_count": null,
      "metadata": {
        "id": "ZhxU7unHPHG1"
      },
      "outputs": [],
      "source": [
        "class RGBToBGR(nn.Module):\n",
        "    \"\"\"Converts Tensors or PIL images from RGB to BGR (or vice versa).\"\"\"\n",
        "\n",
        "    def forward(self, x):\n",
        "        if isinstance(x, torch.Tensor):\n",
        "            if x.ndim not in (3, 4):\n",
        "                raise ValueError('Tensor must have 3 or 4 dimensions.')\n",
        "            if x.shape[-3] != 3:\n",
        "                raise ValueError('Tensor must have three channels.')\n",
        "            return x.flip(dims=[-3])\n",
        "        elif isinstance(x, Image.Image):\n",
        "            x = x.convert('RGB')\n",
        "            return Image.merge('RGB', x.split()[::-1])\n",
        "        raise TypeError('Argument must be either Tensor or PIL image.')"
      ]
    },
    {
      "cell_type": "code",
      "execution_count": null,
      "metadata": {
        "id": "GSHM7VgkPJJw"
      },
      "outputs": [],
      "source": [
        "# Load your dataset and preprocess it\n",
        "transform_normal = torchvision.transforms.v2.Compose([\n",
        "    torchvision.transforms.Resize((224, 224)),\n",
        "    torchvision.transforms.ToTensor(),\n",
        "    torchvision.transforms.Normalize(mean=[116.047 / 255, 113.753 / 255, 105.417 / 255], std=[1 / 255]),\n",
        "    RGBToBGR()\n",
        "])\n",
        "\n",
        "transform_color = torchvision.transforms.v2.Compose([\n",
        "    torchvision.transforms.Resize((224, 224)),\n",
        "    torchvision.transforms.ColorJitter(),\n",
        "    torchvision.transforms.ToTensor(),\n",
        "    torchvision.transforms.Normalize(mean=[116.047 / 255, 113.753 / 255, 105.417 / 255], std=[1 / 255])\n",
        "])\n",
        "\n",
        "transform_rotate = torchvision.transforms.v2.Compose([\n",
        "    torchvision.transforms.Resize((224, 224)),\n",
        "    torchvision.transforms.v2.RandomApply(transforms=[\n",
        "        torchvision.transforms.RandomRotation(degrees=(90,90)),\n",
        "        torchvision.transforms.RandomRotation(degrees=(180,180)),\n",
        "        torchvision.transforms.RandomRotation(degrees=(270,270))], p=0.5),\n",
        "    torchvision.transforms.ToTensor(),\n",
        "    torchvision.transforms.Normalize(mean=[116.047 / 255, 113.753 / 255, 105.417 / 255], std=[1 / 255])\n",
        "])\n",
        "\n",
        "transform_rotate1 = torchvision.transforms.v2.Compose([\n",
        "    torchvision.transforms.Resize((224, 224)),\n",
        "    torchvision.transforms.RandomRotation(degrees=(90,90)),\n",
        "    torchvision.transforms.ToTensor(),\n",
        "    torchvision.transforms.Normalize(mean=[116.047 / 255, 113.753 / 255, 105.417 / 255], std=[1 / 255])\n",
        "])\n",
        "\n",
        "transform_rotate2 = torchvision.transforms.v2.Compose([\n",
        "    torchvision.transforms.Resize((224, 224)),\n",
        "    torchvision.transforms.RandomRotation(degrees=(180,180)),\n",
        "    torchvision.transforms.ToTensor(),\n",
        "    torchvision.transforms.Normalize(mean=[116.047 / 255, 113.753 / 255, 105.417 / 255], std=[1 / 255])\n",
        "])\n",
        "\n",
        "transform_rotate3 = torchvision.transforms.v2.Compose([\n",
        "    torchvision.transforms.Resize((224, 224)),\n",
        "    torchvision.transforms.RandomRotation(degrees=(270,270)),\n",
        "    torchvision.transforms.ToTensor(),\n",
        "    torchvision.transforms.Normalize(mean=[116.047 / 255, 113.753 / 255, 105.417 / 255], std=[1 / 255])\n",
        "])\n",
        "\n",
        "transform_fliph = torchvision.transforms.v2.Compose([\n",
        "    torchvision.transforms.Resize((224, 224)),\n",
        "    torchvision.transforms.RandomHorizontalFlip(),\n",
        "    torchvision.transforms.ToTensor(),\n",
        "    torchvision.transforms.Normalize(mean=[116.047 / 255, 113.753 / 255, 105.417 / 255], std=[1 / 255])\n",
        "])\n",
        "\n",
        "transform_flipv = torchvision.transforms.v2.Compose([\n",
        "    torchvision.transforms.Resize((224, 224)),\n",
        "    torchvision.transforms.RandomVerticalFlip(),\n",
        "    torchvision.transforms.ToTensor(),\n",
        "    torchvision.transforms.Normalize(mean=[116.047 / 255, 113.753 / 255, 105.417 / 255], std=[1 / 255])\n",
        "])\n",
        "\n",
        "#transform_rotate = torchvision.transforms.v2.RandomApply(transforms=[transform_rotate1, transform_rotate2,transform_rotate3], p=1)\n",
        "\n",
        "transform_list = [transform_normal, transform_color, transform_rotate1, transform_rotate2,transform_rotate3, transform_fliph, transform_flipv]"
      ]
    },
    {
      "cell_type": "code",
      "execution_count": null,
      "metadata": {
        "id": "OQIYJxEjPMMB"
      },
      "outputs": [],
      "source": [
        "data_dir = '/content/gdrive/My Drive/APS360 Group Project/datax256_n_500/datax256_n_500'\n",
        "\n",
        "train_dir = os.path.join(data_dir, 'train/')\n",
        "val_dir = os.path.join(data_dir, 'val/')\n",
        "test_dir = os.path.join(data_dir, 'test/')\n",
        "#splitfolders.ratio(data_dir, output=data_dir, seed=1337, ratio=(.8, 0.1,0.1))\n",
        "\n",
        "train_datasets = []\n",
        "\n",
        "for trans in transform_list:\n",
        "    # Create datasets and dataloaders for training, validation, and test sets\n",
        "    train_datasets.append(datasets.ImageFolder(train_dir, transform=trans))\n",
        "\n",
        "from torch.utils.data import ConcatDataset\n",
        "#train_dataset = ConcatDataset(train_datasets)\n",
        "train_dataset = datasets.ImageFolder(train_dir, transform=transform_normal)\n",
        "val_dataset = datasets.ImageFolder(val_dir, transform=transform_normal)\n",
        "test_dataset = datasets.ImageFolder(test_dir, transform=transform_normal)"
      ]
    },
    {
      "cell_type": "code",
      "execution_count": null,
      "metadata": {
        "id": "VPmkt-MrPQOn"
      },
      "outputs": [],
      "source": [
        "class placesClassifier(nn.Module):\n",
        "    def __init__(self):\n",
        "        super(placesClassifier, self).__init__()\n",
        "        self.fc1 = nn.Linear(205, 50)\n",
        "        self.fc2 = nn.Linear(50, 4)\n",
        "\n",
        "    def forward(self, x):\n",
        "        x1 = F.relu(self.fc1(x))\n",
        "        x2 = self.fc2(x1)\n",
        "        return x2\n",
        "\n",
        "class placesMerged(nn.Module):\n",
        "\n",
        "    def __init__(self, model1, model2):\n",
        "        super().__init__()\n",
        "\n",
        "        self.model1 = model1\n",
        "        self.model2 = model2\n",
        "\n",
        "\n",
        "    def forward(self, x):\n",
        "        x1 = self.model1(x)\n",
        "        x2 = self.model2(x1)\n",
        "\n",
        "        return x2"
      ]
    },
    {
      "cell_type": "code",
      "execution_count": null,
      "metadata": {
        "id": "LGHjiwITPQ7t"
      },
      "outputs": [],
      "source": [
        "import numpy as np\n",
        "from sklearn import svm\n",
        "import torch\n",
        "\n",
        "use_cuda = True\n",
        "\n",
        "# Extract features using GoogLeNet\n",
        "def extract_features2(model, bs, dataset):\n",
        "    dataloader = DataLoader(dataset, batch_size=bs, shuffle=True, pin_memory=True)\n",
        "    features = []\n",
        "    labels = []\n",
        "    for data, label in dataloader:\n",
        "        data = data.cuda()  # Move data to the same device as the model\n",
        "        with torch.no_grad():  # Ensure that no gradients are calculated\n",
        "            output = model(data)  # Assuming GoogLeNet returns both output and auxillary output\n",
        "            if isinstance(output, torch.Tensor):  # Check if the output is a tensor\n",
        "                output = output.cpu().detach().numpy()  # Convert tensor to numpy array\n",
        "            features.append(output)\n",
        "            labels.append(label.numpy())\n",
        "    features = np.concatenate(features)\n",
        "    labels = np.concatenate(labels)\n",
        "    return features, labels\n",
        "\n",
        "# Flatten the extracted features\n",
        "def flatten_features(features):\n",
        "    return features.reshape(features.shape[0], -1)\n",
        "\n",
        "# Train SVM classifier\n",
        "def train_svm(features, labels):\n",
        "    clf = svm.SVC(kernel='linear')\n",
        "    clf.fit(features, labels)\n",
        "    return clf\n",
        "\n",
        "# Evaluate SVM classifier\n",
        "def evaluate_svm(clf, features, labels):\n",
        "    accuracy = clf.score(features, labels)\n",
        "    return accuracy"
      ]
    },
    {
      "cell_type": "code",
      "execution_count": null,
      "metadata": {
        "id": "sG0nndyJPTVU"
      },
      "outputs": [],
      "source": [
        "#link for caffe to pytorch code below: https://github.com/crowsonkb/pytorch-caffe-models/tree/master\n",
        "\n",
        "from PIL import Image\n",
        "import torch\n",
        "from torch import nn\n",
        "from torchvision import transforms as T\n",
        "\n",
        "import torch\n",
        "from torch import nn\n",
        "\n",
        "\n",
        "class Inception(nn.Module):\n",
        "    def __init__(self, in_channels, ch1x1, ch3x3red, ch3x3, ch5x5red, ch5x5, pool_proj):\n",
        "        super().__init__()\n",
        "        self.conv_1x1 = nn.Conv2d(in_channels, ch1x1, 1)\n",
        "        self.relu_1x1 = nn.ReLU(inplace=True)\n",
        "        self.conv_3x3_reduce = nn.Conv2d(in_channels, ch3x3red, 1)\n",
        "        self.relu_3x3_reduce = nn.ReLU(inplace=True)\n",
        "        self.conv_3x3 = nn.Conv2d(ch3x3red, ch3x3, 3, padding=1)\n",
        "        self.relu_3x3 = nn.ReLU(inplace=True)\n",
        "        self.conv_5x5_reduce = nn.Conv2d(in_channels, ch5x5red, 1)\n",
        "        self.relu_5x5_reduce = nn.ReLU(inplace=True)\n",
        "        self.conv_5x5 = nn.Conv2d(ch5x5red, ch5x5, 5, padding=2)\n",
        "        self.relu_5x5 = nn.ReLU(inplace=True)\n",
        "        self.pool = nn.MaxPool2d(3, stride=1, padding=1)\n",
        "        self.pool_proj = nn.Conv2d(in_channels, pool_proj, 1)\n",
        "        self.relu_pool_proj = nn.ReLU(inplace=True)\n",
        "\n",
        "    def forward(self, x):\n",
        "        branch_1 = self.relu_1x1(self.conv_1x1(x))\n",
        "        branch_2 = self.relu_3x3_reduce(self.conv_3x3_reduce(x))\n",
        "        branch_2 = self.relu_3x3(self.conv_3x3(branch_2))\n",
        "        branch_3 = self.relu_5x5_reduce(self.conv_5x5_reduce(x))\n",
        "        branch_3 = self.relu_5x5(self.conv_5x5(branch_3))\n",
        "        branch_4 = self.pool(x)\n",
        "        branch_4 = self.relu_pool_proj(self.pool_proj(branch_4))\n",
        "        return torch.cat([branch_1, branch_2, branch_3, branch_4], dim=1)\n",
        "\n",
        "class GoogLeNet2(nn.Sequential):\n",
        "    def __init__(self, num_classes=1000):\n",
        "        super().__init__()\n",
        "        self.conv1 = nn.Conv2d(3, 64, kernel_size=7, stride=2, padding=3)\n",
        "        self.relu1 = nn.ReLU(inplace=True)\n",
        "        self.pool1 = nn.MaxPool2d(3, stride=2, ceil_mode=True)\n",
        "        self.norm1 = nn.LocalResponseNorm(5, alpha=0.0001, beta=0.75)\n",
        "        self.conv2_reduce = nn.Conv2d(64, 64, kernel_size=1)\n",
        "        self.relu2_reduce = nn.ReLU(inplace=True)\n",
        "        self.conv2 = nn.Conv2d(64, 192, kernel_size=3, padding=1)\n",
        "        self.relu2 = nn.ReLU(inplace=True)\n",
        "        self.norm2 = nn.LocalResponseNorm(5, alpha=0.0001, beta=0.75)\n",
        "        self.pool2 = nn.MaxPool2d(3, stride=2, ceil_mode=True)\n",
        "        self.inception_3a = Inception(192, 64, 96, 128, 16, 32, 32)\n",
        "        self.inception_3b = Inception(256, 128, 128, 192, 32, 96, 64)\n",
        "        self.pool3 = nn.MaxPool2d(3, stride=2, ceil_mode=True)\n",
        "        self.inception_4a = Inception(480, 192, 96, 208, 16, 48, 64)\n",
        "        self.inception_4b = Inception(512, 160, 112, 224, 24, 64, 64)\n",
        "        self.inception_4c = Inception(512, 128, 128, 256, 24, 64, 64)\n",
        "        self.inception_4d = Inception(512, 112, 144, 288, 32, 64, 64)\n",
        "        self.inception_4e = Inception(528, 256, 160, 320, 32, 128, 128)\n",
        "        self.pool4 = nn.MaxPool2d(3, stride=2, ceil_mode=True)\n",
        "        self.inception_5a = Inception(832, 256, 160, 320, 32, 128, 128)\n",
        "\n",
        "    def forward(self, x):\n",
        "        x = self.relu1(self.conv1(x))\n",
        "        x = self.pool1(x)\n",
        "        x = self.norm1(x)\n",
        "        x = self.relu2_reduce(self.conv2_reduce(x))\n",
        "        x = self.relu2(self.conv2(x))\n",
        "        x = self.norm2(x)\n",
        "        x = self.pool2(x)\n",
        "        x = self.inception_3a(x)\n",
        "        x = self.inception_3b(x)\n",
        "        x = self.pool3(x)\n",
        "        x = self.inception_4a(x)\n",
        "        x = self.inception_4b(x)\n",
        "        x = self.inception_4c(x)\n",
        "        x = self.inception_4d(x)\n",
        "        x = self.inception_4e(x)\n",
        "        x = self.pool4(x)\n",
        "        x = self.inception_5a(x)\n",
        "        return x\n",
        "\n",
        "class GoogLeNet(nn.Sequential):\n",
        "    def __init__(self, num_classes=1000):\n",
        "        super().__init__()\n",
        "        self.conv1 = nn.Conv2d(3, 64, kernel_size=7, stride=2, padding=3)\n",
        "        self.relu1 = nn.ReLU(inplace=True)\n",
        "        self.pool1 = nn.MaxPool2d(3, stride=2, ceil_mode=True)\n",
        "        self.norm1 = nn.LocalResponseNorm(5, alpha=0.0001, beta=0.75)\n",
        "        self.conv2_reduce = nn.Conv2d(64, 64, kernel_size=1)\n",
        "        self.relu2_reduce = nn.ReLU(inplace=True)\n",
        "        self.conv2 = nn.Conv2d(64, 192, kernel_size=3, padding=1)\n",
        "        self.relu2 = nn.ReLU(inplace=True)\n",
        "        self.norm2 = nn.LocalResponseNorm(5, alpha=0.0001, beta=0.75)\n",
        "        self.pool2 = nn.MaxPool2d(3, stride=2, ceil_mode=True)\n",
        "        self.inception_3a = Inception(192, 64, 96, 128, 16, 32, 32)\n",
        "        self.inception_3b = Inception(256, 128, 128, 192, 32, 96, 64)\n",
        "        self.pool3 = nn.MaxPool2d(3, stride=2, ceil_mode=True)\n",
        "        self.inception_4a = Inception(480, 192, 96, 208, 16, 48, 64)\n",
        "        self.inception_4b = Inception(512, 160, 112, 224, 24, 64, 64)\n",
        "        self.inception_4c = Inception(512, 128, 128, 256, 24, 64, 64)\n",
        "        self.inception_4d = Inception(512, 112, 144, 288, 32, 64, 64)\n",
        "        self.inception_4e = Inception(528, 256, 160, 320, 32, 128, 128)\n",
        "        self.pool4 = nn.MaxPool2d(3, stride=2, ceil_mode=True)\n",
        "        self.inception_5a = Inception(832, 256, 160, 320, 32, 128, 128)\n",
        "        self.inception_5b = Inception(832, 384, 192, 384, 48, 128, 128)\n",
        "        self.pool5 = nn.AdaptiveAvgPool2d((1, 1))\n",
        "        self.loss3_classifier = nn.Linear(1024, num_classes)\n",
        "\n",
        "    def forward(self, x):\n",
        "        x = self.relu1(self.conv1(x))\n",
        "        x = self.pool1(x)\n",
        "        x = self.norm1(x)\n",
        "        x = self.relu2_reduce(self.conv2_reduce(x))\n",
        "        x = self.relu2(self.conv2(x))\n",
        "        x = self.norm2(x)\n",
        "        x = self.pool2(x)\n",
        "        x = self.inception_3a(x)\n",
        "        x = self.inception_3b(x)\n",
        "        x = self.pool3(x)\n",
        "        x = self.inception_4a(x)\n",
        "        x = self.inception_4b(x)\n",
        "        x = self.inception_4c(x)\n",
        "        x = self.inception_4d(x)\n",
        "        x = self.inception_4e(x)\n",
        "        x = self.pool4(x)\n",
        "        x = self.inception_5a(x)\n",
        "        x = self.inception_5b(x)\n",
        "        x = self.pool5(x).flatten(1)\n",
        "        return self.loss3_classifier(x)\n",
        "\n",
        "class Just_5b(nn.Module):\n",
        "    def __init__(self):\n",
        "        super(Just_5b, self).__init__()\n",
        "        self.inception_5b = Inception(832, 384, 192, 384, 48, 128, 128)\n",
        "        self.pool5 = nn.AdaptiveAvgPool2d((1, 1))\n",
        "        self.loss3_classifier = nn.Linear(1024, 205)\n",
        "\n",
        "    def forward(self, x):\n",
        "        x = self.inception_5b(x)\n",
        "        x = self.pool5(x).flatten(1)\n",
        "        x = self.loss3_classifier(x)\n",
        "        return x\n",
        "\n",
        "\n",
        "class RGBToBGR(nn.Module):\n",
        "    \"\"\"Converts Tensors or PIL images from RGB to BGR (or vice versa).\"\"\"\n",
        "\n",
        "    def forward(self, x):\n",
        "        if isinstance(x, torch.Tensor):\n",
        "            if x.ndim not in (3, 4):\n",
        "                raise ValueError('Tensor must have 3 or 4 dimensions.')\n",
        "            if x.shape[-3] != 3:\n",
        "                raise ValueError('Tensor must have three channels.')\n",
        "            return x.flip(dims=[-3])\n",
        "        elif isinstance(x, Image.Image):\n",
        "            x = x.convert('RGB')\n",
        "            return Image.merge('RGB', x.split()[::-1])\n",
        "        raise TypeError('Argument must be either Tensor or PIL image.')\n",
        "\n",
        "\n",
        "def googlenet_places205():\n",
        "    \"\"\"Returns the model and preprocessing transform for the GoogLeNet\n",
        "    trained on Places205.\n",
        "\n",
        "    URL: http://places.csail.mit.edu/downloadCNN.html\"\"\"\n",
        "\n",
        "    transform = T.Compose([\n",
        "        T.Normalize(mean=[116.047 / 255, 113.753 / 255, 105.417 / 255], std=[1 / 255]),\n",
        "        RGBToBGR(),\n",
        "    ])\n",
        "    model = GoogLeNet(num_classes=205)\n",
        "    url = 'https://github.com/crowsonkb/pytorch-caffe-models/releases/download/models-2/googlenet_places205-b57a3fc7a34557585.pth'\n",
        "    model.load_state_dict(torch.hub.load_state_dict_from_url(url, check_hash=True))\n",
        "    return model, transform\n",
        "\n",
        "def load_my_state_dict(self, state_dict):\n",
        "\n",
        "        own_state = self.state_dict()\n",
        "        for name, param in state_dict.items():\n",
        "            if name not in own_state:\n",
        "                 continue\n",
        "            own_state[name].copy_(param)\n",
        "        return own_state"
      ]
    },
    {
      "cell_type": "code",
      "execution_count": null,
      "metadata": {
        "id": "C9znfEPTPYvX"
      },
      "outputs": [],
      "source": [
        "def get_accuracy1(extract, model, bs, data_loader):\n",
        "    correct = 0\n",
        "    total = 0\n",
        "    for data, labels in data_loader:\n",
        "        #############################################\n",
        "        #To Enable GPU Usage\n",
        "        if use_cuda and torch.cuda.is_available():\n",
        "          data = data.cuda()\n",
        "          labels = labels.cuda()\n",
        "        #############################################\n",
        "\n",
        "        output = model(extract(data))\n",
        "\n",
        "        #select index with maximum prediction score\n",
        "        pred = output.max(1, keepdim=True)[1]\n",
        "        correct += pred.eq(labels.view_as(pred)).sum().item()\n",
        "\n",
        "        total += data.shape[0]\n",
        "    return correct / total\n",
        "\n",
        "def training1(extract, model, train_dataset, valid_dataset, bs=32, num_epoch=5, lr=0.001, graph=False):\n",
        "    \"\"\"\n",
        "    extract: type of model used for feature extraction\n",
        "    model: type of classifier used on extracted features\n",
        "    train_loader: DataLoader of training data\n",
        "    valid_loader: DataLoader of validation data\n",
        "    bs: batch size\n",
        "    num_epoch: number of epochs\n",
        "    lr: learning rate\n",
        "    graph: boolean, whether a graph is to be produced\n",
        "    \"\"\"\n",
        "    train_loader = DataLoader(train_dataset, batch_size=bs, shuffle=True, pin_memory=True)\n",
        "    valid_loader = DataLoader(valid_dataset, batch_size=bs, shuffle=True, pin_memory=True)\n",
        "\n",
        "    torch.manual_seed(1)\n",
        "    criterion = nn.CrossEntropyLoss()\n",
        "    optimizer = torch.optim.SGD(model.parameters(), lr, momentum=0.9)\n",
        "\n",
        "    t_losses, iters, t_acc, v_acc, g_iter = [], [], [], [], []\n",
        "\n",
        "    i = 0\n",
        "\n",
        "    for epoch in range(num_epoch):\n",
        "        for data, labels in train_loader:\n",
        "\n",
        "            #############################################\n",
        "            #To Enable GPU Usage\n",
        "            if use_cuda and torch.cuda.is_available():\n",
        "              data = data.cuda()\n",
        "              labels = labels.cuda()\n",
        "            #############################################\n",
        "\n",
        "            output = model(extract(data))\n",
        "            loss = criterion(output, labels)\n",
        "            loss.backward()\n",
        "            optimizer.step()\n",
        "            optimizer.zero_grad()\n",
        "\n",
        "            t_losses.append(float(loss/bs))\n",
        "\n",
        "            iters.append(i)\n",
        "            i += 1\n",
        "\n",
        "        if graph:\n",
        "            t_acc.append(get_accuracy1(extract, model, bs, train_loader))\n",
        "            v_acc.append(get_accuracy1(extract, model, bs, valid_loader))\n",
        "            g_iter.append(epoch)\n",
        "\n",
        "    if graph:\n",
        "        plt.title(\"Training Curve\")\n",
        "        plt.plot(iters, t_losses, label=\"Train\")\n",
        "        plt.xlabel(\"Iterations\")\n",
        "        plt.ylabel(\"Loss\")\n",
        "        plt.show()\n",
        "\n",
        "        plt.title(\"Training Curve\")\n",
        "        plt.plot(g_iter, t_acc, label=\"Train\")\n",
        "        plt.plot(g_iter, v_acc, label=\"Validation\")\n",
        "        plt.xlabel(\"Epochs\")\n",
        "        plt.ylabel(\"Training Accuracy\")\n",
        "        plt.legend(loc='best')\n",
        "        plt.show()\n",
        "\n",
        "    print(\"Final Training Accuracy: {}\".format(get_accuracy1(extract, model, bs, train_loader)))\n",
        "    print(\"Final Validation Accuracy: {}\".format(get_accuracy1(extract, model, bs, valid_loader)))"
      ]
    },
    {
      "cell_type": "code",
      "execution_count": null,
      "metadata": {
        "colab": {
          "base_uri": "https://localhost:8080/"
        },
        "id": "R7DkBohTPdTU",
        "outputId": "379def3d-792a-4f82-a0fe-e5a08c878d5d"
      },
      "outputs": [
        {
          "output_type": "stream",
          "name": "stderr",
          "text": [
            "Downloading: \"https://github.com/crowsonkb/pytorch-caffe-models/releases/download/models-2/googlenet_places205-b57a3fc7a34557585.pth\" to /root/.cache/torch/hub/checkpoints/googlenet_places205-b57a3fc7a34557585.pth\n",
            "100%|██████████| 23.6M/23.6M [00:00<00:00, 76.0MB/s]\n"
          ]
        }
      ],
      "source": [
        "# Load pre-trained GoogLeNet pretrained on Places205\n",
        "googlenet_places, transform = googlenet_places205()\n",
        "classifier = placesClassifier()\n",
        "not_5b = GoogLeNet2()\n",
        "not_5b.load_state_dict(load_my_state_dict(not_5b, googlenet_places.state_dict()))\n",
        "just_5b = Just_5b()\n",
        "\n",
        "merged_net = placesMerged(just_5b, classifier)\n",
        "\n",
        "model = merged_net"
      ]
    },
    {
      "cell_type": "code",
      "execution_count": null,
      "metadata": {
        "colab": {
          "base_uri": "https://localhost:8080/",
          "height": 70
        },
        "id": "L-8RXY7SPh3v",
        "outputId": "c2ff96d8-52d9-4cd3-a447-3051266f4958"
      },
      "outputs": [
        {
          "output_type": "execute_result",
          "data": {
            "text/plain": [
              "\"\\nuse_cuda = True\\n\\nif use_cuda and torch.cuda.is_available():\\n  model = model.cuda()\\n  not_5b = not_5b.cuda()\\n  print('CUDA is available!  Training on GPU ...')\\nelse:\\n  print('CUDA is not available.  Training on CPU ...')\\n\\n# Freeze initial layers\\nfor name, param in not_5b.named_parameters():\\n    param.requires_grad = False\\n\\n# Don't freeze final layers\\nfor name, param in model.named_parameters():\\n    param.requires_grad = True\\n\\ntraining1(not_5b,model,train_dataset, val_dataset, bs=32, num_epoch=10, lr=0.01, graph=True)\\n\\n\\n\""
            ],
            "application/vnd.google.colaboratory.intrinsic+json": {
              "type": "string"
            }
          },
          "metadata": {},
          "execution_count": 52
        }
      ],
      "source": [
        "'''\n",
        "use_cuda = True\n",
        "\n",
        "if use_cuda and torch.cuda.is_available():\n",
        "  model = model.cuda()\n",
        "  not_5b = not_5b.cuda()\n",
        "  print('CUDA is available!  Training on GPU ...')\n",
        "else:\n",
        "  print('CUDA is not available.  Training on CPU ...')\n",
        "\n",
        "# Freeze initial layers\n",
        "for name, param in not_5b.named_parameters():\n",
        "    param.requires_grad = False\n",
        "\n",
        "# Don't freeze final layers\n",
        "for name, param in model.named_parameters():\n",
        "    param.requires_grad = True\n",
        "\n",
        "training1(not_5b,model,train_dataset, val_dataset, bs=32, num_epoch=10, lr=0.01, graph=True)\n",
        "\n",
        "\n",
        "'''"
      ]
    },
    {
      "cell_type": "code",
      "execution_count": null,
      "metadata": {
        "id": "kuwoPKblPiqh"
      },
      "outputs": [],
      "source": [
        "#torch.save(model.state_dict(), '/content/gdrive/My Drive/APS360 Group Project/model_state_32_10_0_01.pth')"
      ]
    },
    {
      "cell_type": "code",
      "source": [
        "use_cuda = True\n",
        "\n",
        "if use_cuda and torch.cuda.is_available():\n",
        "  model = model.cuda()\n",
        "  not_5b = not_5b.cuda()\n",
        "  print('CUDA is available!  Training on GPU ...')\n",
        "else:\n",
        "  print('CUDA is not available.  Training on CPU ...')\n",
        "\n",
        "# Freeze initial layers\n",
        "for name, param in not_5b.named_parameters():\n",
        "    param.requires_grad = False\n",
        "\n",
        "# Don't freeze final layers\n",
        "for name, param in model.named_parameters():\n",
        "    param.requires_grad = True\n",
        "\n",
        "saved_state_path = '/content/gdrive/My Drive/APS360 Group Project/model_state_32_10_0_01.pth'\n",
        "saved_state_dict = torch.load(saved_state_path)\n",
        "\n",
        "# Load the state dictionary into your model\n",
        "model.load_state_dict(saved_state_dict)\n",
        "\n",
        "# Ensure model is in evaluation mode\n",
        "model.eval()"
      ],
      "metadata": {
        "colab": {
          "base_uri": "https://localhost:8080/"
        },
        "id": "xHK2evetjLd1",
        "outputId": "0a1b360c-53be-4275-95a7-7679a3fc8b01"
      },
      "execution_count": null,
      "outputs": [
        {
          "output_type": "stream",
          "name": "stdout",
          "text": [
            "CUDA is available!  Training on GPU ...\n"
          ]
        },
        {
          "output_type": "execute_result",
          "data": {
            "text/plain": [
              "placesMerged(\n",
              "  (model1): Just_5b(\n",
              "    (inception_5b): Inception(\n",
              "      (conv_1x1): Conv2d(832, 384, kernel_size=(1, 1), stride=(1, 1))\n",
              "      (relu_1x1): ReLU(inplace=True)\n",
              "      (conv_3x3_reduce): Conv2d(832, 192, kernel_size=(1, 1), stride=(1, 1))\n",
              "      (relu_3x3_reduce): ReLU(inplace=True)\n",
              "      (conv_3x3): Conv2d(192, 384, kernel_size=(3, 3), stride=(1, 1), padding=(1, 1))\n",
              "      (relu_3x3): ReLU(inplace=True)\n",
              "      (conv_5x5_reduce): Conv2d(832, 48, kernel_size=(1, 1), stride=(1, 1))\n",
              "      (relu_5x5_reduce): ReLU(inplace=True)\n",
              "      (conv_5x5): Conv2d(48, 128, kernel_size=(5, 5), stride=(1, 1), padding=(2, 2))\n",
              "      (relu_5x5): ReLU(inplace=True)\n",
              "      (pool): MaxPool2d(kernel_size=3, stride=1, padding=1, dilation=1, ceil_mode=False)\n",
              "      (pool_proj): Conv2d(832, 128, kernel_size=(1, 1), stride=(1, 1))\n",
              "      (relu_pool_proj): ReLU(inplace=True)\n",
              "    )\n",
              "    (pool5): AdaptiveAvgPool2d(output_size=(1, 1))\n",
              "    (loss3_classifier): Linear(in_features=1024, out_features=205, bias=True)\n",
              "  )\n",
              "  (model2): placesClassifier(\n",
              "    (fc1): Linear(in_features=205, out_features=50, bias=True)\n",
              "    (fc2): Linear(in_features=50, out_features=4, bias=True)\n",
              "  )\n",
              ")"
            ]
          },
          "metadata": {},
          "execution_count": 32
        }
      ]
    },
    {
      "cell_type": "code",
      "execution_count": null,
      "metadata": {
        "id": "Moo2f1BwPmn4"
      },
      "outputs": [],
      "source": [
        "for name, param in model.named_parameters():\n",
        "    param.requires_grad = False\n",
        "\n",
        "just_5b = model.model1\n",
        "both = placesMerged(not_5b, just_5b)\n",
        "\n",
        "train_features, train_labels = extract_features2(both, 32, train_dataset)\n",
        "val_features, val_labels = extract_features2(both, 32, val_dataset)\n",
        "test_features, test_labels = extract_features2(both, 32, test_dataset)\n",
        "\n",
        "# Convert features to PyTorch tensors\n",
        "train_features_tensor = torch.FloatTensor(train_features)\n",
        "train_labels_tensor = torch.LongTensor(train_labels)\n",
        "val_features_tensor = torch.FloatTensor(val_features)\n",
        "val_labels_tensor = torch.LongTensor(val_labels)\n",
        "test_features_tensor = torch.FloatTensor(test_features)\n",
        "test_labels_tensor = torch.LongTensor(test_labels)"
      ]
    },
    {
      "cell_type": "code",
      "execution_count": null,
      "metadata": {
        "id": "Ao4DjG5xPpS_",
        "colab": {
          "base_uri": "https://localhost:8080/"
        },
        "outputId": "607f2f39-f8f9-47a9-d517-3b2d99d9a160"
      },
      "outputs": [
        {
          "output_type": "stream",
          "name": "stdout",
          "text": [
            "Best Parameters (SVM): {'C': 0.1, 'degree': 2, 'gamma': 'scale', 'kernel': 'linear'}\n",
            "Val Accuracy (SVM with Grid Search): 0.6600\n"
          ]
        }
      ],
      "source": [
        "from sklearn.model_selection import GridSearchCV\n",
        "\n",
        "#classifier = model.model2\n",
        "\n",
        "train_features_tensor = train_features_tensor.cuda().detach().cpu().numpy()\n",
        "test_features_tensor = test_features_tensor.cuda().detach().cpu().numpy()\n",
        "val_features_tensor = val_features_tensor.cuda().detach().cpu().numpy()\n",
        "\n",
        "# Extract features using the trained classifier\n",
        "'''\n",
        "Should this be classifier(train_features_tensor) or just train_features_tensor?\n",
        "'''\n",
        "#train_features_classifier = classifier(train_features_tensor).detach().cpu().numpy()\n",
        "#test_features_classifier = classifier(test_features_tensor).detach().cpu().numpy()\n",
        "#val_features_classifier = classifier(val_features_tensor).detach().cpu().numpy()\n",
        "\n",
        "\n",
        "# Define hyperparameters\n",
        "svm_params = {\n",
        "    'C': [0.1, 1, 10],  # Regularization parameter\n",
        "    'kernel': ['linear', 'poly', 'rbf'],  # Kernel type\n",
        "    'degree': [2, 3, 4],  # Degree of the polynomial kernel\n",
        "    'gamma': ['scale', 'auto']  # Gamma parameter for RBF kernel\n",
        "}\n",
        "\n",
        "# Train SVM classifier on extracted features with grid search\n",
        "svm_classifier = svm.SVC()\n",
        "grid_search_svm = GridSearchCV(svm_classifier, svm_params, cv=5, n_jobs=-1)\n",
        "grid_search_svm.fit(train_features_tensor, train_labels)\n",
        "\n",
        "# Get best parameters\n",
        "best_params_svm = grid_search_svm.best_params_\n",
        "print(\"Best Parameters (SVM):\", best_params_svm)\n",
        "\n",
        "# Evaluate SVM classifier with best parameters on test set\n",
        "best_svm_classifier = grid_search_svm.best_estimator_\n",
        "val_accuracy_svm = best_svm_classifier.score(val_features_tensor, val_labels)\n",
        "print(f\"Val Accuracy (SVM with Grid Search): {val_accuracy_svm:.4f}\")\n"
      ]
    },
    {
      "cell_type": "code",
      "source": [
        "from sklearn.model_selection import GridSearchCV\n",
        "\n",
        "classifier = model.model2\n",
        "\n",
        "\n",
        "# Extract features using the trained classifier\n",
        "train_features_tensor2 = torch.FloatTensor(train_features)\n",
        "train_labels_tensor2 = torch.LongTensor(train_labels)\n",
        "val_features_tensor2 = torch.FloatTensor(val_features)\n",
        "val_labels_tensor2 = torch.LongTensor(val_labels)\n",
        "test_features_tensor2 = torch.FloatTensor(test_features)\n",
        "test_labels_tensor2 = torch.LongTensor(test_labels)\n",
        "\n",
        "train_features_tensor2 = train_features_tensor2.cuda()\n",
        "test_features_tensor2 = test_features_tensor2.cuda()\n",
        "val_features_tensor2 = val_features_tensor2.cuda()\n",
        "\n",
        "\n",
        "train_features_classifier = classifier(train_features_tensor2).detach().cpu().numpy()\n",
        "test_features_classifier = classifier(test_features_tensor2).detach().cpu().numpy()\n",
        "val_features_classifier = classifier(val_features_tensor2).detach().cpu().numpy()\n",
        "\n",
        "\n",
        "# Define hyperparameters\n",
        "svm_params2 = {\n",
        "    'C': [0.1, 1, 10],  # Regularization parameter\n",
        "    'kernel': ['linear', 'poly', 'rbf'],  # Kernel type\n",
        "    'degree': [2, 3, 4],  # Degree of the polynomial kernel\n",
        "    'gamma': ['scale', 'auto']  # Gamma parameter for RBF kernel\n",
        "}\n",
        "\n",
        "# Train SVM classifier on extracted features with grid search\n",
        "svm_classifier2 = svm.SVC()\n",
        "grid_search_svm2 = GridSearchCV(svm_classifier2, svm_params2, cv=5, n_jobs=-1)\n",
        "grid_search_svm2.fit(train_features_classifier, train_labels)\n",
        "\n",
        "# Get best parameters\n",
        "best_params_svm2 = grid_search_svm2.best_params_\n",
        "print(\"Best Parameters (SVM):\", best_params_svm2)\n",
        "\n",
        "# Evaluate SVM classifier with best parameters on test set\n",
        "best_svm_classifier2 = grid_search_svm2.best_estimator_\n",
        "val_accuracy_svm2 = best_svm_classifier2.score(val_features_classifier, val_labels)\n",
        "print(f\"Val Accuracy (Classifier + SVM with Grid Search): {val_accuracy_svm2:.4f}\")\n"
      ],
      "metadata": {
        "colab": {
          "base_uri": "https://localhost:8080/"
        },
        "id": "oOIiteZUebS6",
        "outputId": "d8dddf3b-d716-4e65-c337-e7908959e1b0"
      },
      "execution_count": null,
      "outputs": [
        {
          "output_type": "stream",
          "name": "stdout",
          "text": [
            "Best Parameters (SVM): {'C': 1, 'degree': 2, 'gamma': 'scale', 'kernel': 'linear'}\n",
            "Val Accuracy (Classifier + SVM with Grid Search): 0.6550\n"
          ]
        }
      ]
    },
    {
      "cell_type": "code",
      "execution_count": null,
      "metadata": {
        "id": "90vUmPs_QhrN",
        "colab": {
          "base_uri": "https://localhost:8080/",
          "height": 798
        },
        "outputId": "ef6ff794-0e10-45de-eb24-13a68d990519"
      },
      "outputs": [
        {
          "output_type": "display_data",
          "data": {
            "text/plain": [
              "<Figure size 800x600 with 2 Axes>"
            ],
            "image/png": "[encoded data removed]"
          },
          "metadata": {}
        },
        {
          "output_type": "stream",
          "name": "stdout",
          "text": [
            "              precision    recall  f1-score   support\n",
            "\n",
            "   barcelona       0.68      0.64      0.66        50\n",
            "      london       0.68      0.68      0.68        50\n",
            "       paris       0.63      0.58      0.60        50\n",
            "      venice       0.65      0.74      0.69        50\n",
            "\n",
            "    accuracy                           0.66       200\n",
            "   macro avg       0.66      0.66      0.66       200\n",
            "weighted avg       0.66      0.66      0.66       200\n",
            "\n"
          ]
        }
      ],
      "source": [
        "import numpy as np\n",
        "import matplotlib.pyplot as plt\n",
        "from sklearn.metrics import confusion_matrix, classification_report\n",
        "\n",
        "class_names = ['barcelona', 'london', 'paris', 'venice']   # Adjust class names accordingly\n",
        "\n",
        "\n",
        "# Get predictions on the test set\n",
        "val_predictions_svm = best_svm_classifier.predict(val_features_tensor)\n",
        "\n",
        "# Calculate confusion matrix\n",
        "conf_matrix = confusion_matrix(val_labels, val_predictions_svm)\n",
        "\n",
        "# Plot confusion matrix\n",
        "plt.figure(figsize=(8, 6))\n",
        "plt.imshow(conf_matrix, interpolation='nearest', cmap=plt.cm.Blues)\n",
        "plt.title('Confusion Matrix')\n",
        "plt.colorbar()\n",
        "tick_marks = np.arange(len(class_names))\n",
        "plt.xticks(tick_marks, class_names, rotation=45)\n",
        "plt.yticks(tick_marks, class_names)\n",
        "\n",
        "for i in range(len(class_names)):\n",
        "    for j in range(len(class_names)):\n",
        "        plt.text(j, i, str(conf_matrix[i, j]), horizontalalignment=\"center\", color=\"white\" if conf_matrix[i, j] > conf_matrix.max() / 2 else \"black\")\n",
        "\n",
        "plt.ylabel('True label')\n",
        "plt.xlabel('Predicted label')\n",
        "plt.tight_layout()\n",
        "plt.show()\n",
        "\n",
        "# Plot classification report\n",
        "print(classification_report(val_labels, val_predictions_svm, target_names=class_names))"
      ]
    },
    {
      "cell_type": "code",
      "execution_count": null,
      "metadata": {
        "id": "feo_0no-QnhS",
        "colab": {
          "base_uri": "https://localhost:8080/",
          "height": 798
        },
        "outputId": "dc0f0356-4ce5-4225-b8f4-c7bebf8a3d69"
      },
      "outputs": [
        {
          "output_type": "display_data",
          "data": {
            "text/plain": [
              "<Figure size 800x600 with 2 Axes>"
            ],
            "image/png": "[encoded data removed]"
          },
          "metadata": {}
        },
        {
          "output_type": "stream",
          "name": "stdout",
          "text": [
            "              precision    recall  f1-score   support\n",
            "\n",
            "   barcelona       0.68      0.64      0.66        50\n",
            "      london       0.63      0.68      0.65        50\n",
            "       paris       0.67      0.58      0.62        50\n",
            "      venice       0.64      0.72      0.68        50\n",
            "\n",
            "    accuracy                           0.66       200\n",
            "   macro avg       0.66      0.66      0.65       200\n",
            "weighted avg       0.66      0.66      0.65       200\n",
            "\n"
          ]
        }
      ],
      "source": [
        "import numpy as np\n",
        "import matplotlib.pyplot as plt\n",
        "from sklearn.metrics import confusion_matrix, classification_report\n",
        "\n",
        "class_names = ['barcelona', 'london', 'paris', 'venice']  # Adjust class names accordingly\n",
        "\n",
        "\n",
        "# Get predictions on the test set\n",
        "val_predictions_svm2 = best_svm_classifier2.predict(val_features_classifier)\n",
        "\n",
        "# Calculate confusion matrix\n",
        "conf_matrix = confusion_matrix(val_labels, val_predictions_svm2)\n",
        "\n",
        "# Plot confusion matrix\n",
        "plt.figure(figsize=(8, 6))\n",
        "plt.imshow(conf_matrix, interpolation='nearest', cmap=plt.cm.Blues)\n",
        "plt.title('Confusion Matrix')\n",
        "plt.colorbar()\n",
        "tick_marks = np.arange(len(class_names))\n",
        "plt.xticks(tick_marks, class_names, rotation=45)\n",
        "plt.yticks(tick_marks, class_names)\n",
        "\n",
        "for i in range(len(class_names)):\n",
        "    for j in range(len(class_names)):\n",
        "        plt.text(j, i, str(conf_matrix[i, j]), horizontalalignment=\"center\", color=\"white\" if conf_matrix[i, j] > conf_matrix.max() / 2 else \"black\")\n",
        "\n",
        "plt.ylabel('True label')\n",
        "plt.xlabel('Predicted label')\n",
        "plt.tight_layout()\n",
        "plt.show()\n",
        "\n",
        "# Plot classification report\n",
        "print(classification_report(val_labels, val_predictions_svm2, target_names=class_names))"
      ]
    },
    {
      "cell_type": "code",
      "execution_count": null,
      "metadata": {
        "id": "NAs2gW9kPwxm",
        "colab": {
          "base_uri": "https://localhost:8080/"
        },
        "outputId": "c6d82402-488d-4866-cd22-8ac348d017fe"
      },
      "outputs": [
        {
          "output_type": "stream",
          "name": "stdout",
          "text": [
            "Test Accuracy (SVM with Grid Search): 0.5800\n"
          ]
        }
      ],
      "source": [
        "test_accuracy_svm = best_svm_classifier.score(test_features_tensor, test_labels)\n",
        "print(f\"Test Accuracy (SVM with Grid Search): {test_accuracy_svm:.4f}\")"
      ]
    },
    {
      "cell_type": "code",
      "execution_count": null,
      "metadata": {
        "id": "yNFR7mw_PxlJ",
        "colab": {
          "base_uri": "https://localhost:8080/",
          "height": 798
        },
        "outputId": "6f51b4ce-95ba-4061-fb95-138341c8a3d7"
      },
      "outputs": [
        {
          "output_type": "display_data",
          "data": {
            "text/plain": [
              "<Figure size 800x600 with 2 Axes>"
            ],
            "image/png": "[encoded data removed]"
          },
          "metadata": {}
        },
        {
          "output_type": "stream",
          "name": "stdout",
          "text": [
            "              precision    recall  f1-score   support\n",
            "\n",
            "   barcelona       0.53      0.54      0.53        50\n",
            "      london       0.61      0.56      0.58        50\n",
            "       paris       0.55      0.52      0.54        50\n",
            "      venice       0.62      0.70      0.66        50\n",
            "\n",
            "    accuracy                           0.58       200\n",
            "   macro avg       0.58      0.58      0.58       200\n",
            "weighted avg       0.58      0.58      0.58       200\n",
            "\n"
          ]
        }
      ],
      "source": [
        "import numpy as np\n",
        "import matplotlib.pyplot as plt\n",
        "from sklearn.metrics import confusion_matrix, classification_report\n",
        "\n",
        "class_names = ['barcelona', 'london', 'paris', 'venice']  # Adjust class names accordingly\n",
        "\n",
        "\n",
        "# Get predictions on the test set\n",
        "test_predictions_svm = best_svm_classifier.predict(test_features_tensor)\n",
        "\n",
        "# Calculate confusion matrix\n",
        "conf_matrix = confusion_matrix(test_labels, test_predictions_svm)\n",
        "\n",
        "# Plot confusion matrix\n",
        "plt.figure(figsize=(8, 6))\n",
        "plt.imshow(conf_matrix, interpolation='nearest', cmap=plt.cm.Blues)\n",
        "plt.title('Confusion Matrix')\n",
        "plt.colorbar()\n",
        "tick_marks = np.arange(len(class_names))\n",
        "plt.xticks(tick_marks, class_names, rotation=45)\n",
        "plt.yticks(tick_marks, class_names)\n",
        "\n",
        "for i in range(len(class_names)):\n",
        "    for j in range(len(class_names)):\n",
        "        plt.text(j, i, str(conf_matrix[i, j]), horizontalalignment=\"center\", color=\"white\" if conf_matrix[i, j] > conf_matrix.max() / 2 else \"black\")\n",
        "\n",
        "plt.ylabel('True label')\n",
        "plt.xlabel('Predicted label')\n",
        "plt.tight_layout()\n",
        "plt.show()\n",
        "\n",
        "# Plot classification report\n",
        "print(classification_report(test_labels, test_predictions_svm, target_names=class_names))"
      ]
    },
    {
      "cell_type": "markdown",
      "source": [],
      "metadata": {
        "id": "rgQyg757gdYM"
      }
    },
    {
      "cell_type": "markdown",
      "source": [],
      "metadata": {
        "id": "NcbpY7HdghQ3"
      }
    },
    {
      "cell_type": "markdown",
      "source": [],
      "metadata": {
        "id": "5xBlM2aSghOA"
      }
    },
    {
      "cell_type": "markdown",
      "source": [],
      "metadata": {
        "id": "o3-l4mdxghLZ"
      }
    },
    {
      "cell_type": "markdown",
      "source": [],
      "metadata": {
        "id": "e1_noXgrghJD"
      }
    },
    {
      "cell_type": "markdown",
      "source": [],
      "metadata": {
        "id": "F0wgtjkLghGt"
      }
    },
    {
      "cell_type": "markdown",
      "source": [],
      "metadata": {
        "id": "Q_KWIWBBghEG"
      }
    },
    {
      "cell_type": "markdown",
      "source": [],
      "metadata": {
        "id": "_B1fR-Y8gg_J"
      }
    },
    {
      "cell_type": "markdown",
      "source": [],
      "metadata": {
        "id": "qY2su42Qgg9E"
      }
    },
    {
      "cell_type": "markdown",
      "source": [],
      "metadata": {
        "id": "4m8EqbgBgg6_"
      }
    },
    {
      "cell_type": "markdown",
      "source": [],
      "metadata": {
        "id": "mTfWeocogg4Y"
      }
    },
    {
      "cell_type": "markdown",
      "source": [],
      "metadata": {
        "id": "Y8suTGyzgg2D"
      }
    },
    {
      "cell_type": "markdown",
      "source": [],
      "metadata": {
        "id": "c3tDkCh9ggzd"
      }
    },
    {
      "cell_type": "markdown",
      "source": [],
      "metadata": {
        "id": "Sddu7TEFggw1"
      }
    },
    {
      "cell_type": "markdown",
      "source": [],
      "metadata": {
        "id": "_OZdX6EHgguP"
      }
    },
    {
      "cell_type": "markdown",
      "source": [],
      "metadata": {
        "id": "qe4IPguTggro"
      }
    },
    {
      "cell_type": "markdown",
      "source": [],
      "metadata": {
        "id": "UrvveFy6ggpB"
      }
    },
    {
      "cell_type": "markdown",
      "source": [],
      "metadata": {
        "id": "GjuBpIiEggmr"
      }
    },
    {
      "cell_type": "markdown",
      "source": [],
      "metadata": {
        "id": "MeRPW2qVggkE"
      }
    },
    {
      "cell_type": "markdown",
      "source": [],
      "metadata": {
        "id": "3Q7w6vCrgghf"
      }
    },
    {
      "cell_type": "markdown",
      "source": [],
      "metadata": {
        "id": "F8AQRfAlggfJ"
      }
    },
    {
      "cell_type": "markdown",
      "source": [],
      "metadata": {
        "id": "ScILNS9Bggcy"
      }
    },
    {
      "cell_type": "markdown",
      "source": [],
      "metadata": {
        "id": "ReHqjLkPggaL"
      }
    },
    {
      "cell_type": "markdown",
      "source": [],
      "metadata": {
        "id": "w-VxzJiSggX1"
      }
    },
    {
      "cell_type": "markdown",
      "source": [],
      "metadata": {
        "id": "_AuHJb_QggVO"
      }
    },
    {
      "cell_type": "markdown",
      "source": [],
      "metadata": {
        "id": "Zr0qpqFAggSo"
      }
    },
    {
      "cell_type": "markdown",
      "source": [],
      "metadata": {
        "id": "dfhR78ONggPx"
      }
    },
    {
      "cell_type": "markdown",
      "source": [],
      "metadata": {
        "id": "FyPiD2Ijgfvf"
      }
    },
    {
      "cell_type": "markdown",
      "source": [],
      "metadata": {
        "id": "j6FI7a8pgdV0"
      }
    },
    {
      "cell_type": "markdown",
      "source": [],
      "metadata": {
        "id": "ckstHVPMgdTN"
      }
    },
    {
      "cell_type": "markdown",
      "source": [],
      "metadata": {
        "id": "kkBrxMyXgdQ4"
      }
    },
    {
      "cell_type": "markdown",
      "source": [],
      "metadata": {
        "id": "VWwjcx0QgdOT"
      }
    },
    {
      "cell_type": "markdown",
      "source": [],
      "metadata": {
        "id": "Qe9vERdmgdLJ"
      }
    },
    {
      "cell_type": "markdown",
      "source": [],
      "metadata": {
        "id": "Zz7SlPEmgdIj"
      }
    },
    {
      "cell_type": "markdown",
      "source": [],
      "metadata": {
        "id": "MKpF9eQIgdFr"
      }
    },
    {
      "cell_type": "markdown",
      "source": [],
      "metadata": {
        "id": "nSetJpKGgdC0"
      }
    },
    {
      "cell_type": "markdown",
      "source": [],
      "metadata": {
        "id": "fqUIrSWYgdAe"
      }
    },
    {
      "cell_type": "markdown",
      "source": [],
      "metadata": {
        "id": "wFuMuIKagc95"
      }
    },
    {
      "cell_type": "markdown",
      "source": [],
      "metadata": {
        "id": "pTui4KwFgc6v"
      }
    },
    {
      "cell_type": "markdown",
      "source": [],
      "metadata": {
        "id": "91HT4ssSgc4I"
      }
    },
    {
      "cell_type": "markdown",
      "source": [],
      "metadata": {
        "id": "MnoQ-uTGgc1k"
      }
    },
    {
      "cell_type": "markdown",
      "source": [],
      "metadata": {
        "id": "Hkbov7Tsgcyq"
      }
    },
    {
      "cell_type": "markdown",
      "source": [],
      "metadata": {
        "id": "HUSKW91Cgcv0"
      }
    },
    {
      "cell_type": "markdown",
      "source": [],
      "metadata": {
        "id": "JTIazlbKgctN"
      }
    },
    {
      "cell_type": "markdown",
      "source": [],
      "metadata": {
        "id": "gx6m1nmIgcqn"
      }
    },
    {
      "cell_type": "markdown",
      "source": [],
      "metadata": {
        "id": "S40x_pwngcoA"
      }
    },
    {
      "cell_type": "markdown",
      "source": [],
      "metadata": {
        "id": "AlPl-tkTgclp"
      }
    },
    {
      "cell_type": "markdown",
      "source": [],
      "metadata": {
        "id": "atUwNTksgciR"
      }
    },
    {
      "cell_type": "markdown",
      "source": [],
      "metadata": {
        "id": "QfEKU27jgcfZ"
      }
    },
    {
      "cell_type": "markdown",
      "source": [],
      "metadata": {
        "id": "HjeQ7WEygccR"
      }
    },
    {
      "cell_type": "markdown",
      "source": [],
      "metadata": {
        "id": "udOYS-TcgcZJ"
      }
    },
    {
      "cell_type": "markdown",
      "source": [],
      "metadata": {
        "id": "PpWZXcacgcWi"
      }
    },
    {
      "cell_type": "markdown",
      "source": [],
      "metadata": {
        "id": "RiTqIyeUgcTt"
      }
    },
    {
      "cell_type": "markdown",
      "source": [],
      "metadata": {
        "id": "LiiuIhKPgcRF"
      }
    },
    {
      "cell_type": "markdown",
      "source": [],
      "metadata": {
        "id": "VAY1ACOGgcOf"
      }
    },
    {
      "cell_type": "markdown",
      "source": [],
      "metadata": {
        "id": "Bh4OO2cvgcMI"
      }
    },
    {
      "cell_type": "markdown",
      "source": [],
      "metadata": {
        "id": "y8Nn_iTXgcJi"
      }
    },
    {
      "cell_type": "markdown",
      "source": [],
      "metadata": {
        "id": "XgI5rVnmgcEk"
      }
    },
    {
      "cell_type": "markdown",
      "source": [],
      "metadata": {
        "id": "u-OU3_DYgcCA"
      }
    },
    {
      "cell_type": "markdown",
      "source": [],
      "metadata": {
        "id": "biZNpQWsgb_o"
      }
    },
    {
      "cell_type": "markdown",
      "source": [],
      "metadata": {
        "id": "__BkjNXXgb9S"
      }
    },
    {
      "cell_type": "markdown",
      "source": [],
      "metadata": {
        "id": "NzYZJNzOgb1f"
      }
    }
  ],
  "metadata": {
    "accelerator": "GPU",
    "colab": {
      "gpuType": "T4",
      "provenance": []
    },
    "kernelspec": {
      "display_name": "Python 3",
      "name": "python3"
    },
    "language_info": {
      "name": "python"
    }
  },
  "nbformat": 4,
  "nbformat_minor": 0
}